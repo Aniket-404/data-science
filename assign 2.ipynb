{
 "cells": [
  {
   "cell_type": "markdown",
   "metadata": {},
   "source": [
    "Data Wrangling II\n",
    "Create an “Academic performance” dataset of students and perform the following\n",
    "operations using Python. 1. Scan all variables for missing values and inconsistencies. If\n",
    "there are missing values and/or inconsistencies, use any of the suitable techniques to deal\n",
    "with them. 2. Scan all numeric variables for outliers. If there are outliers, use any of the\n",
    "suitable techniques to deal with them. 3. Apply data transformations on at least one of the\n",
    "variables. The purpose of this transformation should be one of the following reasons: to\n",
    "change the scale for better understanding of the variable, to convert a non-linear relation\n",
    "into a linear one, or to decrease the skewness and convert the distribution into a normal\n",
    "distribution. Reason and document your approach properly."
   ]
  },
  {
   "cell_type": "code",
   "execution_count": 1,
   "metadata": {},
   "outputs": [],
   "source": [
    "import pandas as pd\n",
    "import numpy as np\n",
    "\n",
    "# Create synthetic dataset\n",
    "np.random.seed(0)  # for reproducibility\n",
    "\n",
    "# Generate student IDs\n",
    "student_ids = np.arange(1, 101)\n",
    "\n",
    "# Generate random scores for three subjects: Math, English, and Science\n",
    "math_scores = np.random.randint(0, 101, size=100)\n",
    "english_scores = np.random.randint(0, 101, size=100)\n",
    "science_scores = np.random.randint(0, 101, size=100)\n",
    "\n",
    "# Create DataFrame\n",
    "academic_df = pd.DataFrame({\n",
    "    'Student_ID': student_ids,\n",
    "    'Math_Score': math_scores,\n",
    "    'English_Score': english_scores,\n",
    "    'Science_Score': science_scores\n",
    "})\n"
   ]
  },
  {
   "cell_type": "code",
   "execution_count": 2,
   "metadata": {},
   "outputs": [
    {
     "name": "stdout",
     "output_type": "stream",
     "text": [
      "Missing Values:\n",
      "Student_ID       0\n",
      "Math_Score       0\n",
      "English_Score    0\n",
      "Science_Score    0\n",
      "dtype: int64\n",
      "\n",
      "Inconsistencies:\n",
      "Student_ID       False\n",
      "Math_Score       False\n",
      "English_Score    False\n",
      "Science_Score    False\n",
      "dtype: bool\n"
     ]
    }
   ],
   "source": [
    "# Check for missing values\n",
    "missing_values = academic_df.isnull().sum()\n",
    "print(\"Missing Values:\")\n",
    "print(missing_values)\n",
    "\n",
    "# Check for inconsistencies (e.g., negative scores, scores above 100)\n",
    "inconsistencies = (academic_df < 0) | (academic_df > 100)\n",
    "print(\"\\nInconsistencies:\")\n",
    "print(inconsistencies.any())\n"
   ]
  },
  {
   "cell_type": "code",
   "execution_count": 3,
   "metadata": {},
   "outputs": [
    {
     "data": {
      "text/plain": [
       "<Axes: >"
      ]
     },
     "execution_count": 3,
     "metadata": {},
     "output_type": "execute_result"
    },
    {
     "data": {
      "image/png": "[encoded data removed]",
      "text/plain": [
       "<Figure size 640x480 with 1 Axes>"
      ]
     },
     "metadata": {},
     "output_type": "display_data"
    }
   ],
   "source": [
    "# Check for outliers using box plots\n",
    "academic_df[['Math_Score', 'English_Score', 'Science_Score']].boxplot()\n"
   ]
  },
  {
   "cell_type": "code",
   "execution_count": 4,
   "metadata": {},
   "outputs": [
    {
     "name": "stdout",
     "output_type": "stream",
     "text": [
      "0     3.806662\n",
      "1     3.871201\n",
      "2     4.174387\n",
      "3     4.219508\n",
      "4     4.219508\n",
      "        ...   \n",
      "95    4.077537\n",
      "96    3.178054\n",
      "97    4.382027\n",
      "98    2.639057\n",
      "99    4.454347\n",
      "Name: Math_Score_Log, Length: 100, dtype: float64\n"
     ]
    }
   ],
   "source": [
    "# Apply logarithmic transformation to Math_Score variable\n",
    "academic_df['Math_Score_Log'] = np.log1p(academic_df['Math_Score'])\n",
    "print(academic_df['Math_Score_Log'])"
   ]
  }
 ],
 "metadata": {
  "kernelspec": {
   "display_name": "Python 3",
   "language": "python",
   "name": "python3"
  },
  "language_info": {
   "codemirror_mode": {
    "name": "ipython",
    "version": 3
   },
   "file_extension": ".py",
   "mimetype": "text/x-python",
   "name": "python",
   "nbconvert_exporter": "python",
   "pygments_lexer": "ipython3",
   "version": "3.9.12"
  }
 },
 "nbformat": 4,
 "nbformat_minor": 2
}
